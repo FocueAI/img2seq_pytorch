{
 "cells": [
  {
   "cell_type": "code",
   "execution_count": 1,
   "metadata": {},
   "outputs": [
    {
     "name": "stderr",
     "output_type": "stream",
     "text": [
      "/root/miniconda3/envs/py38_copy/lib/python3.8/site-packages/tqdm/auto.py:22: TqdmWarning: IProgress not found. Please update jupyter and ipywidgets. See https://ipywidgets.readthedocs.io/en/stable/user_install.html\n",
      "  from .autonotebook import tqdm as notebook_tqdm\n"
     ]
    }
   ],
   "source": [
    "import numpy as np\n",
    "from albumentations.pytorch.transforms import ToTensorV2\n",
    "from PIL import Image\n",
    "# from image_to_latex.lit_models import LitResNetTransformer\n",
    "from models.resnet_transformer import ResNetTransformer\n",
    "import torch\n",
    "from create_model import Img2Seq"
   ]
  },
  {
   "cell_type": "code",
   "execution_count": 2,
   "metadata": {},
   "outputs": [
    {
     "name": "stderr",
     "output_type": "stream",
     "text": [
      "/root/miniconda3/envs/py38_copy/lib/python3.8/site-packages/torchvision/models/_utils.py:208: UserWarning: The parameter 'pretrained' is deprecated since 0.13 and may be removed in the future, please use 'weights' instead.\n",
      "  warnings.warn(\n",
      "/root/miniconda3/envs/py38_copy/lib/python3.8/site-packages/torchvision/models/_utils.py:223: UserWarning: Arguments other than a weight enum or `None` for 'weights' are deprecated since 0.13 and may be removed in the future. The current behavior is equivalent to passing `weights=None`.\n",
      "  warnings.warn(msg)\n"
     ]
    },
    {
     "data": {
      "text/plain": [
       "<All keys matched successfully>"
      ]
     },
     "execution_count": 2,
     "metadata": {},
     "output_type": "execute_result"
    }
   ],
   "source": [
    "weight_path = r'./checkpoint.pt'\n",
    "img2seq_model, loss_fn, tokenizer = Img2Seq(d_model=128, dim_feedforward=256, nhead=8,\n",
    "                                          dropout=0.3, num_decoder_layers=3,\n",
    "                                          max_output_len=150,\n",
    "                                          vocab_path='data_warehouse/vocab.json'\n",
    "                                          )\n",
    "img2seq_model.eval()\n",
    "img2seq_model.load_state_dict(torch.load(weight_path))\n"
   ]
  },
  {
   "cell_type": "code",
   "execution_count": 26,
   "metadata": {},
   "outputs": [
    {
     "name": "stdout",
     "output_type": "stream",
     "text": [
      "len:152,raw-pred:tensor([ 1, 27, 10,  5, 43, 28, 27, 10,  9, 28, 27, 10,  9, 28,  2,  0,  0,  0,\n",
      "         0,  0,  0,  0,  0,  0,  0,  0,  0,  0,  0,  0,  0,  0,  0,  0,  0,  0,\n",
      "         0,  0,  0,  0,  0,  0,  0,  0,  0,  0,  0,  0,  0,  0,  0,  0,  0,  0,\n",
      "         0,  0,  0,  0,  0,  0,  0,  0,  0,  0,  0,  0,  0,  0,  0,  0,  0,  0,\n",
      "         0,  0,  0,  0,  0,  0,  0,  0,  0,  0,  0,  0,  0,  0,  0,  0,  0,  0,\n",
      "         0,  0,  0,  0,  0,  0,  0,  0,  0,  0,  0,  0,  0,  0,  0,  0,  0,  0,\n",
      "         0,  0,  0,  0,  0,  0,  0,  0,  0,  0,  0,  0,  0,  0,  0,  0,  0,  0,\n",
      "         0,  0,  0,  0,  0,  0,  0,  0,  0,  0,  0,  0,  0,  0,  0,  0,  0,  0,\n",
      "         0,  0,  0,  0,  0,  0,  0,  0])\n",
      "decoded_str:< 6 1 ' > < 6 5 > < 6 5 >\n"
     ]
    }
   ],
   "source": [
    "transform = ToTensorV2()\n",
    "# file_path = r'./data_warehouse/train_raw/2012020616404276_system_index_0_staff_0_measure_0.jpg'\n",
    "# file_path = r'/usr/hsc_project/latexOCR/img2seq_pytorch/data_warehouse/train_raw/2012020616404276_system_index_2_staff_0_measure_6.jpg'\n",
    "file_path = r'/usr/hsc_project/latexOCR/img2seq_pytorch/data_warehouse/test_raw/2012020616404675_system_index_6_staff_0_measure_1.jpg'\n",
    "file_path = r'data_warehouse/test_raw/2012070618150265_system_index_9_staff_0_measure_1.jpg'\n",
    "file_path = r'data_warehouse/test_raw/2012070618362307_system_index_5_staff_0_measure_4.jpg'\n",
    "file_path = r'data_warehouse/test_raw/2012070618365849_system_index_8_staff_0_measure_2.jpg'\n",
    "file_path = r'data_warehouse/test_raw/2012070618374608_system_index_2_staff_0_measure_3.jpg'\n",
    "file_path = r'data_warehouse/test_raw/2012070618375329_system_index_4_staff_0_measure_4.jpg'\n",
    "image = Image.open(file_path).convert(\"RGB\")\n",
    "image_tensor = transform(image=np.array(image))[\"image\"]  # type: ignore\n",
    "# pred = img2seq_model(image_tensor.unsqueeze(0).float())[0]  # type: ignore\n",
    "# with torch.no_grad(): # 暂时先不加\n",
    "pred = img2seq_model.predict(image_tensor.unsqueeze(0).float())[0]\n",
    "print(f'len:{len(pred)},raw-pred:{pred}')\n",
    "decoded = tokenizer.decode(pred.tolist())\n",
    "decoded_str = \" \".join(decoded)\n",
    "print(f'decoded_str:{decoded_str}')\n"
   ]
  },
  {
   "cell_type": "code",
   "execution_count": 27,
   "metadata": {},
   "outputs": [
    {
     "data": {
      "image/png": "[encoded data removed]",
      "text/plain": [
       "<PIL.Image.Image image mode=RGB size=126x39>"
      ]
     },
     "execution_count": 27,
     "metadata": {},
     "output_type": "execute_result"
    }
   ],
   "source": [
    "image"
   ]
  },
  {
   "cell_type": "code",
   "execution_count": null,
   "metadata": {},
   "outputs": [],
   "source": []
  },
  {
   "cell_type": "code",
   "execution_count": 1,
   "metadata": {},
   "outputs": [],
   "source": [
    "import torch"
   ]
  },
  {
   "cell_type": "code",
   "execution_count": 11,
   "metadata": {},
   "outputs": [
    {
     "name": "stdout",
     "output_type": "stream",
     "text": [
      "a:tensor([-2.1383]),b:tensor([True]),a[b]:tensor([-2.1383])\n"
     ]
    }
   ],
   "source": [
    "a = torch.randn(1)\n",
    "b = torch.BoolTensor([True])\n",
    "print(f'a:{a},b:{b},a[b]:{a[b]}')"
   ]
  },
  {
   "cell_type": "code",
   "execution_count": 12,
   "metadata": {},
   "outputs": [
    {
     "name": "stdout",
     "output_type": "stream",
     "text": [
      "a:tensor([-0.0880]),b:tensor([False]),a[b]:tensor([])\n"
     ]
    }
   ],
   "source": [
    "a = torch.randn(1)\n",
    "b = torch.BoolTensor([False])\n",
    "print(f'a:{a},b:{b},a[b]:{a[b]}')"
   ]
  },
  {
   "cell_type": "markdown",
   "metadata": {},
   "source": []
  },
  {
   "cell_type": "code",
   "execution_count": 17,
   "metadata": {},
   "outputs": [
    {
     "data": {
      "text/plain": [
       "tensor([])"
      ]
     },
     "execution_count": 17,
     "metadata": {},
     "output_type": "execute_result"
    }
   ],
   "source": [
    "a[b]=torch.ones(1)\n",
    "a[b]"
   ]
  },
  {
   "cell_type": "code",
   "execution_count": 16,
   "metadata": {},
   "outputs": [
    {
     "data": {
      "text/plain": [
       "tensor([1.])"
      ]
     },
     "execution_count": 16,
     "metadata": {},
     "output_type": "execute_result"
    }
   ],
   "source": [
    "torch.ones(1)"
   ]
  },
  {
   "cell_type": "code",
   "execution_count": null,
   "metadata": {},
   "outputs": [],
   "source": []
  }
 ],
 "metadata": {
  "kernelspec": {
   "display_name": "py38_copy",
   "language": "python",
   "name": "python3"
  },
  "language_info": {
   "codemirror_mode": {
    "name": "ipython",
    "version": 3
   },
   "file_extension": ".py",
   "mimetype": "text/x-python",
   "name": "python",
   "nbconvert_exporter": "python",
   "pygments_lexer": "ipython3",
   "version": "3.8.8"
  },
  "orig_nbformat": 4
 },
 "nbformat": 4,
 "nbformat_minor": 2
}
